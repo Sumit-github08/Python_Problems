{
 "cells": [
  {
   "cell_type": "code",
   "execution_count": 59,
   "id": "341288e6",
   "metadata": {
    "ExecuteTime": {
     "end_time": "2021-09-15T12:23:58.936590Z",
     "start_time": "2021-09-15T12:23:32.328798Z"
    },
    "collapsed": true
   },
   "outputs": [
    {
     "name": "stdout",
     "output_type": "stream",
     "text": [
      "Requirement already satisfied: pyPDF4 in c:\\users\\itrs-1944\\anaconda3\\lib\\site-packages (1.27.0)\n",
      "Requirement already satisfied: pytesseract in c:\\users\\itrs-1944\\anaconda3\\lib\\site-packages (0.3.8)\n",
      "Requirement already satisfied: Pillow in c:\\users\\itrs-1944\\anaconda3\\lib\\site-packages (from pytesseract) (8.2.0)\n",
      "Collecting tesseract\n",
      "  Downloading tesseract-0.1.3.tar.gz (45.6 MB)\n",
      "Building wheels for collected packages: tesseract\n",
      "  Building wheel for tesseract (setup.py): started\n",
      "  Building wheel for tesseract (setup.py): finished with status 'done'\n",
      "  Created wheel for tesseract: filename=tesseract-0.1.3-py3-none-any.whl size=45562569 sha256=43641a4f93bdb5e7f8c43770b70b9f8e2ac10ff09c9d24a766e0f73496f83bc8\n",
      "  Stored in directory: c:\\users\\itrs-1944\\appdata\\local\\pip\\cache\\wheels\\7f\\a1\\69\\fabe07004553a36d818e4657fed410daf525fe1ae161f469d3\n",
      "Successfully built tesseract\n",
      "Installing collected packages: tesseract\n",
      "Successfully installed tesseract-0.1.3\n"
     ]
    }
   ],
   "source": [
    "!pip3 install pyPDF4     \n",
    "#extraction for pdf\n",
    "!pip3 install pytesseract \n",
    "#extraction from images\n",
    "!pip3 install tesseract"
   ]
  },
  {
   "cell_type": "code",
   "execution_count": 1,
   "id": "ceeff624",
   "metadata": {
    "ExecuteTime": {
     "end_time": "2021-09-17T16:46:48.324257Z",
     "start_time": "2021-09-17T16:46:48.289980Z"
    }
   },
   "outputs": [
    {
     "data": {
      "text/plain": [
       "'D:\\\\data science\\\\Machine Learning(Applied AI Course)\\\\Mastersindia_Skill_Test'"
      ]
     },
     "execution_count": 1,
     "metadata": {},
     "output_type": "execute_result"
    }
   ],
   "source": [
    "import os\n",
    "os.getcwd()"
   ]
  },
  {
   "cell_type": "code",
   "execution_count": 181,
   "id": "52fe71e5",
   "metadata": {
    "ExecuteTime": {
     "end_time": "2021-09-17T18:46:27.853859Z",
     "start_time": "2021-09-17T18:46:27.843554Z"
    }
   },
   "outputs": [
    {
     "name": "stdout",
     "output_type": "stream",
     "text": [
      "['1291908241.pdf', '19019155.pdf', 'Decathlon Invoice.jpg', 'Decathlon Tax Invoice.jpg', 'IGST NO.333.pdf', 'IGST NO.334.pdf', 'Invoice  - 10001.pdf', 'Invoice - 20004.pdf', 'Sales_Invoice_1EOU192001343.pdf', 'Sales_Invoice_1EOU192001344.pdf']\n"
     ]
    }
   ],
   "source": [
    "# os.chdir(\".\")\n",
    "print(os.listdir(\"./ML Assignment/\"))"
   ]
  },
  {
   "cell_type": "code",
   "execution_count": 23,
   "id": "8f31ba40",
   "metadata": {
    "ExecuteTime": {
     "end_time": "2021-09-17T17:05:04.766196Z",
     "start_time": "2021-09-17T17:05:02.575281Z"
    },
    "collapsed": true
   },
   "outputs": [
    {
     "name": "stdout",
     "output_type": "stream",
     "text": [
      "1291908241.pdf\n",
      "19019155.pdf\n",
      "Decathlon Invoice.jpg\n",
      "Decathlon Tax Invoice.jpg\n",
      "IGST NO.333.pdf\n",
      "IGST NO.334.pdf\n",
      "Invoice  - 10001.pdf\n",
      "Invoice - 20004.pdf\n",
      "Sales_Invoice_1EOU192001343.pdf\n",
      "Sales_Invoice_1EOU192001344.pdf\n",
      "********** Data Successfully stored in data dict **********\n"
     ]
    }
   ],
   "source": [
    "import re\n",
    "import PyPDF4\n",
    "import cv2\n",
    "import numpy as np\n",
    "import pytesseract\n",
    "from PIL import Image\n",
    "from pytesseract import image_to_string\n",
    "EOF_MARKER = b'%%EOF'\n",
    "\n",
    "pytesseract.pytesseract.tesseract_cmd = 'C:\\Program Files\\Tesseract-OCR\\\\tesseract.exe'  # your path may be different\n",
    "\n",
    "\n",
    "data = {}\n",
    "files= os.listdir(\"./ML Assignment/\")\n",
    "for i in range(len(files)):\n",
    "    ext = files[i].split('.')[-1]\n",
    "    \n",
    "    if ext in 'pdf':\n",
    "        print(files[i])\n",
    "        FILE_PATH = os.getcwd()+\"//ML Assignment//\"+files[i]\n",
    "        #         print(FILE_PATH)\n",
    "        with open(FILE_PATH, mode='rb') as f:\n",
    "            reader = PyPDF4.PdfFileReader(f)\n",
    "            page = reader.getPage(0)\n",
    "            data[files[i]] = page.extractText()\n",
    "                 \n",
    "        \n",
    "    if ext in 'jpg':\n",
    "        print(files[i])\n",
    "        FILE_PATH = os.getcwd()+\"//ML Assignment//\"+files[i]\n",
    "        #         print(FILE_PATH)\n",
    "        with Image.open(FILE_PATH) as f:\n",
    "            data[files[i]] = pytesseract.image_to_string(f)\n",
    "print(\"*\"*10, \"Data Successfully stored in data dict\",\"*\"*10)"
   ]
  },
  {
   "cell_type": "code",
   "execution_count": 250,
   "id": "529cc8bb",
   "metadata": {
    "ExecuteTime": {
     "end_time": "2021-09-17T19:27:36.723799Z",
     "start_time": "2021-09-17T19:27:36.678411Z"
    }
   },
   "outputs": [],
   "source": [
    "\n",
    "def image_invoice_no(string):\n",
    "    pattern_1 = re.compile('\\d{4,5}[.-:]+\\d{3,4}-\\d{2,3}',re.IGNORECASE)\n",
    "    pattern_2 = re.compile('\\d{10,12}',re.IGNORECASE)\n",
    "    \n",
    "    if re.findall(pattern_1, string)!=[]:\n",
    "        return re.findall(pattern_1, string)[0]\n",
    "    elif re.findall(pattern_2, string)!=[]:\n",
    "        return re.findall(pattern_2, string)[0]\n",
    "    else:\n",
    "        return \"No Match\"\n",
    "\n",
    "def image_invoice_date(string):\n",
    "    pattern= re.compile(r'\\d{1,2}[-\\/\\.]+[0-9a-z]{1,3}[-\\/\\.]+\\d{2,4}',re.IGNORECASE)\n",
    "    if re.findall(pattern, string)!=[]:\n",
    "        return re.findall(pattern, string)[0]\n",
    "    else:\n",
    "        return \"No Match\"\n",
    "\n",
    "\n",
    "def line_items(string):\n",
    "    pattern_1 = re.compile(r'\\n.*[Description]{11,12}[\\s\\S]+(?=\\n.*?total|$)', re.IGNORECASE)\n",
    "    pattern_2 = re.compile(r'\\n.*(?=\\n.*?good)[\\s\\S]+(?=\\n.*?total|$)', re.IGNORECASE)\n",
    "    found_1 = re.findall(pattern_1, string)\n",
    "    found_2 = re.findall(pattern_2, string)\n",
    "    if found_1!=[]:\n",
    "        for i in found_1[0].split(\"\\n\"):\n",
    "            print(i)\n",
    "        return ' '\n",
    "    elif found_2!=[]:\n",
    "        for i in found_2[0].split(\"\\n\"):\n",
    "            print(i)\n",
    "        return ' '\n",
    "    else:\n",
    "        return \"No Match\"\n",
    "    \n",
    "def file_data(file_path, file_name):\n",
    "    ext = file_name.split('.')[-1]\n",
    "    \n",
    "    if ext in 'pdf':\n",
    "        print(file_name)\n",
    "        FILE_PATH = file_path+\"/\"+str(file_name)\n",
    "        \n",
    "        f= open(FILE_PATH, mode='rb')\n",
    "        reader = PyPDF4.PdfFileReader(f)\n",
    "        page = reader.getPage(0)\n",
    "        string = page.extractText()\n",
    "        print(\"Invoice Date: \",image_invoice_date(string))\n",
    "        print(\"Invoice No.: \",image_invoice_no(string))\n",
    "        print(\"Line Items: \",line_items(string))\n",
    "        \n",
    "    if ext in 'jpg':\n",
    "        print(file_name)\n",
    "        FILE_PATH = FILE_PATH = file_path+\"/\"+str(file_name)\n",
    "        \n",
    "        f = Image.open(FILE_PATH)\n",
    "        string = pytesseract.image_to_string(f)\n",
    "        print('*'*50,\"Invoice Date: \",image_invoice_date(string),\"\\n\")\n",
    "        print('*'*50,\"Invoice No.: \",image_invoice_no(string),\"\\n\")\n",
    "        print('*'*50,\"Line Items: \",line_items(string),\"\\n\")\n",
    "\n"
   ]
  },
  {
   "cell_type": "code",
   "execution_count": 251,
   "id": "009fb197",
   "metadata": {
    "ExecuteTime": {
     "end_time": "2021-09-17T19:27:51.868958Z",
     "start_time": "2021-09-17T19:27:39.267791Z"
    },
    "scrolled": false
   },
   "outputs": [
    {
     "name": "stdout",
     "output_type": "stream",
     "text": [
      "Enter the file pathD:\\data science\\Machine Learning(Applied AI Course)\\Mastersindia_Skill_Test\\ML Assignment\n",
      "Enter the name of file to be converted.1291908241.pdf\n",
      "1291908241.pdf\n",
      "Invoice Date:  21/01/2020\n",
      "Invoice No.:  1291908241\n",
      "\n",
      "Sl#Description of Goods\n",
      "HSN Code\n",
      "(GST)\n",
      "QtyUOM\n",
      "Rate\n",
      "(INR)\n",
      "AmountDiscount\n",
      "Taxable\n",
      "Value\n",
      "CGST\n",
      "SGST\n",
      "IGST\n",
      "%Amount\n",
      "%\n",
      "%\n",
      "Amount\n",
      "Amount\n",
      "UP\n",
      "Charges\n",
      "Total Value\n",
      "PCS\n",
      "READYMADE GARMENTS (100% POLYESTER MENS\n",
      "JACKETS WITH LINING AND PADDING )\n",
      "4806\n",
      "2473167.60\n",
      "514.60\n",
      "1\n",
      "2473167.602.50\n",
      "2.50\n",
      "0.00\n",
      "61829.19\n",
      "61829.19\n",
      "0.00\n",
      "0.00\n",
      "62033300\n",
      "0.00\n",
      "2596825.98\n",
      "Net Net Weight:0.000\n",
      "For   SHAHI EXPORTS PVT LTD\n",
      "Signature and Date\n",
      "Declaration :\n",
      "1. We declare that this invoice shows the actual price of goods described and correct.\n",
      "Values in Words (INR) : Twenty  Five Lakh Ninety  Six Thousand Eight Hundred Twenty  Five   And   Ninety  Eight  Paise Only.\n",
      "TOTAL #\n",
      "0.00\n",
      "Total Invoice Value :\n",
      "61829.19\n",
      "61829.19\n",
      "0.00\n",
      "2473167.60\n",
      "2473167.\n",
      "2596825.98\n",
      "0.00\n",
      "2596825.98\n",
      "2.Reverse charge applicable : NA\n",
      "Our Bank details for  payment :\n",
      "YES, BANK, GR. FLOOR & SECOND FLOOR, SCO-4, SECTOR -16, FARIDABAD -121002,\n",
      "SWIFT CODE: YESBINBBDEL, IFSC CODE- YESB0000020, SHAHI EXPORTS PVT. LTD,\n",
      "Account  Number- 002081400000088\n",
      "\n",
      "Line Items:   \n"
     ]
    }
   ],
   "source": [
    "file_path= input(\"Enter the file path\")\n",
    "file_name = input(\"Enter the name of file to be converted.\")\n",
    "file_data(file_path, file_name)"
   ]
  }
 ],
 "metadata": {
  "kernelspec": {
   "display_name": "Python 3",
   "language": "python",
   "name": "python3"
  },
  "language_info": {
   "codemirror_mode": {
    "name": "ipython",
    "version": 3
   },
   "file_extension": ".py",
   "mimetype": "text/x-python",
   "name": "python",
   "nbconvert_exporter": "python",
   "pygments_lexer": "ipython3",
   "version": "3.8.8"
  },
  "toc": {
   "base_numbering": 1,
   "nav_menu": {},
   "number_sections": true,
   "sideBar": true,
   "skip_h1_title": false,
   "title_cell": "Table of Contents",
   "title_sidebar": "Contents",
   "toc_cell": false,
   "toc_position": {},
   "toc_section_display": true,
   "toc_window_display": false
  },
  "varInspector": {
   "cols": {
    "lenName": 16,
    "lenType": 16,
    "lenVar": 40
   },
   "kernels_config": {
    "python": {
     "delete_cmd_postfix": "",
     "delete_cmd_prefix": "del ",
     "library": "var_list.py",
     "varRefreshCmd": "print(var_dic_list())"
    },
    "r": {
     "delete_cmd_postfix": ") ",
     "delete_cmd_prefix": "rm(",
     "library": "var_list.r",
     "varRefreshCmd": "cat(var_dic_list()) "
    }
   },
   "types_to_exclude": [
    "module",
    "function",
    "builtin_function_or_method",
    "instance",
    "_Feature"
   ],
   "window_display": false
  }
 },
 "nbformat": 4,
 "nbformat_minor": 5
}
